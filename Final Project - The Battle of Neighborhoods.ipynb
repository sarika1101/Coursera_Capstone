{
    "cells": [
        {
            "cell_type": "markdown",
            "metadata": {
                "collapsed": true
            },
            "source": "#  The Battle of Neighborhoods"
        },
        {
            "cell_type": "markdown",
            "metadata": {},
            "source": "## Introduction"
        },
        {
            "cell_type": "markdown",
            "metadata": {},
            "source": "### This project is to take a glimpse at different neighborhoods of Bengaluru which is a capital city of an Indian state Karnataka and Hyderabad which is a capital city of an Indian state Telangana. Both cities are major cities of their states.\n\n### People who want to open their business  can look at this comparison and make decision where can they get more profit."
        },
        {
            "cell_type": "code",
            "execution_count": null,
            "metadata": {},
            "outputs": [],
            "source": ""
        },
        {
            "cell_type": "markdown",
            "metadata": {},
            "source": "## DATA"
        },
        {
            "cell_type": "markdown",
            "metadata": {},
            "source": "### I have organized two data sets of zipcode , neighborhoods with latitude and longtude for both the cities from multiple online sources.\n"
        },
        {
            "cell_type": "code",
            "execution_count": 2,
            "metadata": {},
            "outputs": [
                {
                    "data": {
                        "text/html": "<div>\n<style scoped>\n    .dataframe tbody tr th:only-of-type {\n        vertical-align: middle;\n    }\n\n    .dataframe tbody tr th {\n        vertical-align: top;\n    }\n\n    .dataframe thead th {\n        text-align: right;\n    }\n</style>\n<table border=\"1\" class=\"dataframe\">\n  <thead>\n    <tr style=\"text-align: right;\">\n      <th></th>\n      <th>Zipcode</th>\n      <th>Name</th>\n      <th>Latitude</th>\n      <th>Longitude</th>\n    </tr>\n  </thead>\n  <tbody>\n    <tr>\n      <th>0</th>\n      <td>560071</td>\n      <td>Domlur</td>\n      <td>12.9608</td>\n      <td>77.6361</td>\n    </tr>\n    <tr>\n      <th>1</th>\n      <td>560038</td>\n      <td>Indiranagar</td>\n      <td>12.9699</td>\n      <td>77.6499</td>\n    </tr>\n    <tr>\n      <th>2</th>\n      <td>560003</td>\n      <td>Malleswaram</td>\n      <td>13.0031</td>\n      <td>77.5643</td>\n    </tr>\n    <tr>\n      <th>3</th>\n      <td>560001</td>\n      <td>Shivajinagar</td>\n      <td>12.9857</td>\n      <td>77.6057</td>\n    </tr>\n    <tr>\n      <th>4</th>\n      <td>560103</td>\n      <td>Bellandur</td>\n      <td>12.9034</td>\n      <td>77.6784</td>\n    </tr>\n  </tbody>\n</table>\n</div>",
                        "text/plain": "   Zipcode          Name  Latitude  Longitude\n0   560071        Domlur   12.9608    77.6361\n1   560038   Indiranagar   12.9699    77.6499\n2   560003   Malleswaram   13.0031    77.5643\n3   560001  Shivajinagar   12.9857    77.6057\n4   560103     Bellandur   12.9034    77.6784"
                    },
                    "execution_count": 2,
                    "metadata": {},
                    "output_type": "execute_result"
                }
            ],
            "source": "# The code was removed by Watson Studio for sharing."
        },
        {
            "cell_type": "code",
            "execution_count": 3,
            "metadata": {},
            "outputs": [
                {
                    "data": {
                        "text/html": "<div>\n<style scoped>\n    .dataframe tbody tr th:only-of-type {\n        vertical-align: middle;\n    }\n\n    .dataframe tbody tr th {\n        vertical-align: top;\n    }\n\n    .dataframe thead th {\n        text-align: right;\n    }\n</style>\n<table border=\"1\" class=\"dataframe\">\n  <thead>\n    <tr style=\"text-align: right;\">\n      <th></th>\n      <th>Zipcode</th>\n      <th>Name</th>\n      <th>Latitude</th>\n      <th>Longitude</th>\n    </tr>\n  </thead>\n  <tbody>\n    <tr>\n      <th>0</th>\n      <td>500034</td>\n      <td>Banjara hills</td>\n      <td>17.4169</td>\n      <td>78.4387</td>\n    </tr>\n    <tr>\n      <th>1</th>\n      <td>500033</td>\n      <td>Jubilee Hills</td>\n      <td>17.4326</td>\n      <td>78.4071</td>\n    </tr>\n    <tr>\n      <th>2</th>\n      <td>500019</td>\n      <td>Gachibowli</td>\n      <td>17.4401</td>\n      <td>78.3489</td>\n    </tr>\n    <tr>\n      <th>3</th>\n      <td>500089</td>\n      <td>Manikonda</td>\n      <td>17.4062</td>\n      <td>78.3763</td>\n    </tr>\n    <tr>\n      <th>4</th>\n      <td>500019</td>\n      <td>Nallagandla</td>\n      <td>17.4748</td>\n      <td>78.3103</td>\n    </tr>\n  </tbody>\n</table>\n</div>",
                        "text/plain": "   Zipcode           Name  Latitude  Longitude\n0   500034  Banjara hills   17.4169    78.4387\n1   500033  Jubilee Hills   17.4326    78.4071\n2   500019     Gachibowli   17.4401    78.3489\n3   500089      Manikonda   17.4062    78.3763\n4   500019    Nallagandla   17.4748    78.3103"
                    },
                    "execution_count": 3,
                    "metadata": {},
                    "output_type": "execute_result"
                }
            ],
            "source": "\nbody = client_6de7219ad9874eafb1ec3ccb16d1bbbf.get_object(Bucket='applieddatascience-donotdelete-pr-1agmzdyi4al98c',Key='Hyderabad.xlsx')['Body']\n# add missing __iter__ method, so pandas accepts body as file-like object\nif not hasattr(body, \"__iter__\"): body.__iter__ = types.MethodType( __iter__, body )\n\ndf_hy = pd.read_excel(body)\ndf_hy.head()\n"
        },
        {
            "cell_type": "code",
            "execution_count": null,
            "metadata": {},
            "outputs": [],
            "source": ""
        }
    ],
    "metadata": {
        "kernelspec": {
            "display_name": "Python 3.6",
            "language": "python",
            "name": "python3"
        },
        "language_info": {
            "codemirror_mode": {
                "name": "ipython",
                "version": 3
            },
            "file_extension": ".py",
            "mimetype": "text/x-python",
            "name": "python",
            "nbconvert_exporter": "python",
            "pygments_lexer": "ipython3",
            "version": "3.6.9"
        }
    },
    "nbformat": 4,
    "nbformat_minor": 1
}